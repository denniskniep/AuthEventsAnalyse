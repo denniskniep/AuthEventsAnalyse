{
 "cells": [
  {
   "cell_type": "code",
   "execution_count": 1,
   "metadata": {},
   "outputs": [
    {
     "data": {
      "text/html": [
       "<div>\n",
       "<style scoped>\n",
       "    .dataframe tbody tr th:only-of-type {\n",
       "        vertical-align: middle;\n",
       "    }\n",
       "\n",
       "    .dataframe tbody tr th {\n",
       "        vertical-align: top;\n",
       "    }\n",
       "\n",
       "    .dataframe thead th {\n",
       "        text-align: right;\n",
       "    }\n",
       "</style>\n",
       "<table border=\"1\" class=\"dataframe\">\n",
       "  <thead>\n",
       "    <tr style=\"text-align: right;\">\n",
       "      <th></th>\n",
       "      <th>username</th>\n",
       "      <th>ip</th>\n",
       "      <th>successful</th>\n",
       "      <th>timestamp</th>\n",
       "      <th>failedLoginsSinceLastSuccessful</th>\n",
       "      <th>country</th>\n",
       "      <th>isOnVacation</th>\n",
       "      <th>risky</th>\n",
       "    </tr>\n",
       "  </thead>\n",
       "  <tbody>\n",
       "    <tr>\n",
       "      <th>0</th>\n",
       "      <td>User_1</td>\n",
       "      <td>83.144.109.111</td>\n",
       "      <td>True</td>\n",
       "      <td>1546300800</td>\n",
       "      <td>10</td>\n",
       "      <td>DE</td>\n",
       "      <td>True</td>\n",
       "      <td>True</td>\n",
       "    </tr>\n",
       "    <tr>\n",
       "      <th>1</th>\n",
       "      <td>User_1</td>\n",
       "      <td>11.242.222.195</td>\n",
       "      <td>True</td>\n",
       "      <td>1546300900</td>\n",
       "      <td>0</td>\n",
       "      <td>FR</td>\n",
       "      <td>False</td>\n",
       "      <td>False</td>\n",
       "    </tr>\n",
       "    <tr>\n",
       "      <th>2</th>\n",
       "      <td>User_1</td>\n",
       "      <td>11.242.222.195</td>\n",
       "      <td>True</td>\n",
       "      <td>1546400900</td>\n",
       "      <td>1</td>\n",
       "      <td>FR</td>\n",
       "      <td>False</td>\n",
       "      <td>False</td>\n",
       "    </tr>\n",
       "  </tbody>\n",
       "</table>\n",
       "</div>"
      ],
      "text/plain": [
       "  username              ip  successful   timestamp  \\\n",
       "0   User_1  83.144.109.111        True  1546300800   \n",
       "1   User_1  11.242.222.195        True  1546300900   \n",
       "2   User_1  11.242.222.195        True  1546400900   \n",
       "\n",
       "   failedLoginsSinceLastSuccessful country  isOnVacation  risky  \n",
       "0                               10      DE          True   True  \n",
       "1                                0      FR         False  False  \n",
       "2                                1      FR         False  False  "
      ]
     },
     "execution_count": 1,
     "metadata": {},
     "output_type": "execute_result"
    }
   ],
   "source": [
    "import numpy as np # linear algebra\n",
    "import pandas as pd # data processing, CSV file I/O (e.g. pd.read_csv)\n",
    "\n",
    "train_data = pd.read_csv(\"data/authenticationTrainingData.csv\", encoding='utf-16')\n",
    "train_data.head()\n",
    "\n"
   ]
  },
  {
   "cell_type": "code",
   "execution_count": 2,
   "metadata": {},
   "outputs": [
    {
     "data": {
      "text/html": [
       "<div>\n",
       "<style scoped>\n",
       "    .dataframe tbody tr th:only-of-type {\n",
       "        vertical-align: middle;\n",
       "    }\n",
       "\n",
       "    .dataframe tbody tr th {\n",
       "        vertical-align: top;\n",
       "    }\n",
       "\n",
       "    .dataframe thead th {\n",
       "        text-align: right;\n",
       "    }\n",
       "</style>\n",
       "<table border=\"1\" class=\"dataframe\">\n",
       "  <thead>\n",
       "    <tr style=\"text-align: right;\">\n",
       "      <th></th>\n",
       "      <th>username</th>\n",
       "      <th>ip</th>\n",
       "      <th>successful</th>\n",
       "      <th>timestamp</th>\n",
       "      <th>failedLoginsSinceLastSuccessful</th>\n",
       "      <th>country</th>\n",
       "      <th>isOnVacation</th>\n",
       "    </tr>\n",
       "  </thead>\n",
       "  <tbody>\n",
       "    <tr>\n",
       "      <th>0</th>\n",
       "      <td>User_1</td>\n",
       "      <td>83.144.109.111</td>\n",
       "      <td>True</td>\n",
       "      <td>1546300800</td>\n",
       "      <td>7</td>\n",
       "      <td>GB</td>\n",
       "      <td>False</td>\n",
       "    </tr>\n",
       "    <tr>\n",
       "      <th>1</th>\n",
       "      <td>User_1</td>\n",
       "      <td>83.144.109.111</td>\n",
       "      <td>True</td>\n",
       "      <td>1546300800</td>\n",
       "      <td>3</td>\n",
       "      <td>IT</td>\n",
       "      <td>True</td>\n",
       "    </tr>\n",
       "  </tbody>\n",
       "</table>\n",
       "</div>"
      ],
      "text/plain": [
       "  username              ip  successful   timestamp  \\\n",
       "0   User_1  83.144.109.111        True  1546300800   \n",
       "1   User_1  83.144.109.111        True  1546300800   \n",
       "\n",
       "   failedLoginsSinceLastSuccessful country  isOnVacation  \n",
       "0                                7      GB         False  \n",
       "1                                3      IT          True  "
      ]
     },
     "execution_count": 2,
     "metadata": {},
     "output_type": "execute_result"
    }
   ],
   "source": [
    "test_data = pd.read_csv(\"data/authenticationTestData.csv\", encoding='utf-16')\n",
    "test_data.head()"
   ]
  },
  {
   "cell_type": "code",
   "execution_count": 9,
   "metadata": {},
   "outputs": [
    {
     "data": {
      "text/plain": [
       "['model/RiskyAuthenticationEventPredictionWithRandomForestClassifier.joblib']"
      ]
     },
     "execution_count": 9,
     "metadata": {},
     "output_type": "execute_result"
    }
   ],
   "source": [
    "import joblib\n",
    "from sklearn.ensemble import RandomForestClassifier\n",
    "\n",
    "y = train_data[\"risky\"]\n",
    "\n",
    "features = [\"username\", \"successful\", \"failedLoginsSinceLastSuccessful\", \"country\", \"isOnVacation\"]\n",
    "X = pd.get_dummies(train_data[features])\n",
    "X_test = pd.get_dummies(test_data[features])\n",
    "\n",
    "model = RandomForestClassifier(n_estimators=100, max_depth=5, random_state=1)\n",
    "model.fit(X, y)\n",
    "\n",
    "predictions = model.predict(X_test)\n",
    "\n",
    "output = pd.DataFrame({\n",
    "    'username': test_data.username,\n",
    "    'successful': test_data.successful,\n",
    "    'failedLoginsSinceLastSuccessful': test_data.failedLoginsSinceLastSuccessful,\n",
    "    'country': test_data.country,\n",
    "    'isOnVacation': test_data.isOnVacation,\n",
    "    'risky': predictions})\n",
    "output.head()\n",
    "\n",
    "# save model to file\n",
    "joblib.dump(model, \"model/RiskyAuthenticationEventPredictionWithRandomForestClassifier.joblib\")\n",
    "\n"
   ]
  },
  {
   "cell_type": "code",
   "execution_count": null,
   "metadata": {},
   "outputs": [],
   "source": []
  }
 ],
 "metadata": {
  "kernelspec": {
   "display_name": "Python 3",
   "language": "python",
   "name": "python3"
  },
  "language_info": {
   "codemirror_mode": {
    "name": "ipython",
    "version": 3
   },
   "file_extension": ".py",
   "mimetype": "text/x-python",
   "name": "python",
   "nbconvert_exporter": "python",
   "pygments_lexer": "ipython3",
   "version": "3.8.6"
  }
 },
 "nbformat": 4,
 "nbformat_minor": 4
}
